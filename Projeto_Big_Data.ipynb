{
 "cells": [
  {
   "cell_type": "markdown",
   "id": "e543bfce",
   "metadata": {},
   "source": [
    "# Análise de Dados de Sensores de Temperatura\n",
    "Neste projeto, explorei o monitoramento de sensores de temperatura em diversos ambientes por meio de um cenário hipotético de Internet das Coisas (IoT). Meu objetivo era analisar as leituras de temperatura geradas por um sensor IoT que está instalado em algum local. O problema de negócio que eu desejava resolver era garantir o controle adequado da temperatura em ambientes críticos, como salas de servidores, armazéns de produtos sensíveis à temperatura, laboratórios ou qualquer local onde o controle preciso da temperatura seja essencial."
   ]
  },
  {
   "cell_type": "code",
   "execution_count": null,
   "id": "daab54a5",
   "metadata": {},
   "outputs": [],
   "source": [
    "from pyspark.sql import SparkSession\n",
    "from pyspark.sql.functions import avg, max, min, stddev\n",
    "from pyspark.sql.window import Window\n",
    "import pyspark.sql.functions as F\n",
    "from pyspark.sql.types import StructType, StructField, StringType, DoubleType, TimestampType\n",
    "import random\n",
    "import datetime\n",
    "import matplotlib.pyplot as plt"
   ]
  },
  {
   "cell_type": "code",
   "execution_count": null,
   "id": "04cabea8",
   "metadata": {},
   "outputs": [],
   "source": [
    "spark = SparkSession.builder.appName(\"Análise de Temperatura de Sensores\").getOrCreate()"
   ]
  },
  {
   "cell_type": "markdown",
   "id": "bff7bc2a",
   "metadata": {},
   "source": [
    "# Dados Disponíveis\n",
    "Os dados que tive à disposição para análise são dados fictícios de sensores de temperatura. Esses dados incluem informações detalhadas, como data/hora das leituras, identificação única de cada sensor e as leituras de temperatura em graus Celsius. As leituras foram geradas em intervalos de 15 minutos ao longo de um mês, representando o comportamento típico de um sensor IoT instalado em um ambiente específico."
   ]
  },
  {
   "cell_type": "code",
   "execution_count": null,
   "id": "012f1203",
   "metadata": {},
   "outputs": [],
   "source": [
    "esquema = StructType([\n",
    "    StructField(\"timestamp\", TimestampType(), True),\n",
    "    StructField(\"sensor_id\", StringType(), True),\n",
    "    StructField(\"temperatura\", DoubleType(), True)\n",
    "])"
   ]
  },
  {
   "cell_type": "code",
   "execution_count": null,
   "id": "a497847f",
   "metadata": {},
   "outputs": [],
   "source": [
    "dados = []\n",
    "hora_inicial = datetime.datetime(2023, 1, 1)\n",
    "hora_final = datetime.datetime(2023, 1, 31)"
   ]
  },
  {
   "cell_type": "code",
   "execution_count": null,
   "id": "dc85d114",
   "metadata": {},
   "outputs": [],
   "source": [
    "while hora_inicial <= hora_final:\n",
    "    for sensor_id in range(1, 6):\n",
    "        temperatura = random.uniform(18, 30)\n",
    "        dados.append((hora_inicial, f\"Sensor{sensor_id}\", temperatura))\n",
    "    hora_inicial += datetime.timedelta(minutes=15)"
   ]
  },
  {
   "cell_type": "code",
   "execution_count": null,
   "id": "6c6a8e4b",
   "metadata": {},
   "outputs": [],
   "source": [
    "df = spark.createDataFrame(dados, schema=esquema)"
   ]
  },
  {
   "cell_type": "code",
   "execution_count": null,
   "id": "9e68d1bd",
   "metadata": {},
   "outputs": [],
   "source": [
    "df.show()"
   ]
  },
  {
   "cell_type": "markdown",
   "id": "de8e39a9",
   "metadata": {},
   "source": [
    "# Análise de Tendência\n",
    "Para começar, analisei a tendência das leituras de temperatura ao longo do período de um mês. Acredito que essa análise pode indicar se a temperatura média esta aumentando ou diminuindo com o tempo, o que pode apontar para problemas no sistema de controle de temperatura.\n",
    "\n",
    "A análise de tendência é representada em um gráfico de barras, permitindo-me visualizar a temperatura média por sensor. "
   ]
  },
  {
   "cell_type": "code",
   "execution_count": null,
   "id": "19f9bacb",
   "metadata": {},
   "outputs": [],
   "source": [
    "df_tendencia = df.groupBy(\"sensor_id\").agg(avg(\"temperatura\").alias(\"temperatura_media\"))"
   ]
  },
  {
   "cell_type": "code",
   "execution_count": null,
   "id": "f81f2017",
   "metadata": {},
   "outputs": [],
   "source": [
    "dados_tendencia = df_tendencia.toPandas()\n",
    "plt.figure(figsize=(12, 6))\n",
    "plt.bar(dados_tendencia[\"sensor_id\"], dados_tendencia[\"temperatura_media\"])\n",
    "plt.xlabel(\"Sensor ID\")\n",
    "plt.ylabel(\"Temperatura Média (°C)\")\n",
    "plt.title(\"Análise de Tendência\")\n",
    "plt.show()"
   ]
  },
  {
   "cell_type": "markdown",
   "id": "70e45bde",
   "metadata": {},
   "source": [
    "# Análise de Anomalias\n",
    "Outra análise importante que realizei foi a detecção de anomalias nas leituras de temperatura. Para isso, criei limites superior e inferior com base na média e no desvio padrão das leituras de temperatura para cada sensor. Leituras que estivessem fora desses limites eram consideradas anomalias.\n",
    "\n",
    "As anomalias são destacadas em um gráfico de linhas, que inclui as leituras de temperatura, a média e os limites superior e inferior. Isso me permite identificar visualmente as leituras que estão fora dos limites aceitáveis e que podem indicar problemas nos sensores ou nas condições ambientais."
   ]
  },
  {
   "cell_type": "code",
   "execution_count": null,
   "id": "d498c681",
   "metadata": {},
   "outputs": [],
   "source": [
    "janela_especifica = Window.partitionBy(\"sensor_id\").orderBy(\"timestamp\")\n",
    "df_anomalias = df.withColumn(\"temperatura_media\", avg(\"temperatura\").over(janela_especifica)) \\\n",
    "    .withColumn(\"desvio_padrao_temperatura\", stddev(\"temperatura\").over(janela_especifica)) \\\n",
    "    .withColumn(\"limite_superior\", F.col(\"temperatura_media\") + 2 * F.col(\"desvio_padrao_temperatura\")) \\\n",
    "    .withColumn(\"limite_inferior\", F.col(\"temperatura_media\") - 2 * F.col(\"desvio_padrao_temperatura\")) \\\n",
    "    .filter((F.col(\"temperatura\") > F.col(\"limite_superior\")) | (F.col(\"temperatura\") < F.col(\"limite_inferior\")))"
   ]
  },
  {
   "cell_type": "code",
   "execution_count": null,
   "id": "e1154669",
   "metadata": {},
   "outputs": [],
   "source": [
    "dados_anomalias = df_anomalias.toPandas()\n",
    "plt.figure(figsize=(12, 6))\n",
    "plt.plot(dados_anomalias[\"timestamp\"], dados_anomalias[\"temperatura\"], label=\"Temperatura\")\n",
    "plt.plot(dados_anomalias[\"timestamp\"], dados_anomalias[\"temperatura_media\"], label=\"Média\")\n",
    "plt.plot(dados_anomalias[\"timestamp\"], dados_anomalias[\"limite_superior\"], label=\"Limite Superior\")\n",
    "plt.plot(dados_anomalias[\"timestamp\"], dados_anomalias[\"limite_inferior\"], label=\"Limite Inferior\")\n",
    "plt.xlabel(\"Data e Hora\")\n",
    "plt.ylabel(\"Temperatura (°C)\")\n",
    "plt.title(\"Análise de Anomalias\")\n",
    "plt.legend()\n",
    "plt.show()"
   ]
  },
  {
   "cell_type": "markdown",
   "id": "41aceebc",
   "metadata": {},
   "source": [
    "# Análise de Padrão Diurno\n",
    "Por fim, explorei a existência de um padrão diurno nas leituras de temperatura. Para isso, agrupei as leituras por hora do dia e calculei a temperatura média para cada hora.\n",
    "\n",
    "Essa análise foi representada em um gráfico de barras, mostrando o padrão cíclico das temperaturas ao longo do dia. Isso é fundamental para entender as variações diárias e ajustar o sistema de controle de temperatura de acordo com as necessidades."
   ]
  },
  {
   "cell_type": "code",
   "execution_count": null,
   "id": "f80d1acb",
   "metadata": {},
   "outputs": [],
   "source": [
    "df_padrao_diurno = df.withColumn(\"hora\", F.hour(\"timestamp\"))\n",
    "df_padrao_diurno = df_padrao_diurno.groupBy(\"hora\").agg(avg(\"temperatura\").alias(\"temperatura_media\"))"
   ]
  },
  {
   "cell_type": "code",
   "execution_count": null,
   "id": "b7defd80",
   "metadata": {
    "scrolled": true
   },
   "outputs": [],
   "source": [
    "dados_padrao_diurno = df_padrao_diurno.toPandas()\n",
    "plt.figure(figsize=(12, 6))\n",
    "plt.bar(dados_padrao_diurno[\"hora\"], dados_padrao_diurno[\"temperatura_media\"])\n",
    "plt.xlabel(\"Hora do Dia\")\n",
    "plt.ylabel(\"Temperatura Média (°C)\")\n",
    "plt.title(\"Análise de Padrão Diurno\")\n",
    "plt.show()"
   ]
  },
  {
   "cell_type": "code",
   "execution_count": null,
   "id": "34702001",
   "metadata": {},
   "outputs": [],
   "source": [
    "spark.stop()"
   ]
  },
  {
   "cell_type": "markdown",
   "id": "a223e876",
   "metadata": {},
   "source": [
    "# Conclusões\n",
    "Análise de Tendência: Esta análise nos permitirá identificar se a temperatura média está aumentando ou diminuindo ao longo do tempo. Isso pode indicar problemas no sistema de resfriamento que precisam ser abordados, como a necessidade de manutenção preventiva ou ajustes no controle de temperatura.\n",
    "\n",
    "Análise de Anomalias: Ao identificar leituras de temperatura que estão fora do intervalo aceitável, podemos tomar ações imediatas para solucionar problemas, como substituir sensores defeituosos ou tomar medidas para controlar as condições ambientais.\n",
    "\n",
    "Análise de Padrão Diurno: Entender o comportamento cíclico das temperaturas ao longo do dia pode ajudar a otimizar o sistema de resfriamento, economizando energia e ajustando o controle de temperatura de acordo com as necessidades.\n"
   ]
  },
  {
   "cell_type": "markdown",
   "id": "34d3a163",
   "metadata": {},
   "source": [
    "# O valor que esse conhecimento me traz como um profissional em automação industrial\n",
    "\n",
    "As análises de tendência, anomalias e padrão diurno são ferramentas essenciais para profissionais de automação industrial. Elas não apenas garantem a eficiência das operações, mas também contribuem para a redução de custos, a prevenção de falhas e a segurança dos processos. A capacidade de tomar decisões informadas com base em dados é uma vantagem inestimável na automação industrial, e essas análises desempenham um papel fundamental nesse contexto."
   ]
  }
 ],
 "metadata": {
  "kernelspec": {
   "display_name": "Python 3 (ipykernel)",
   "language": "python",
   "name": "python3"
  },
  "language_info": {
   "codemirror_mode": {
    "name": "ipython",
    "version": 3
   },
   "file_extension": ".py",
   "mimetype": "text/x-python",
   "name": "python",
   "nbconvert_exporter": "python",
   "pygments_lexer": "ipython3",
   "version": "3.11.5"
  }
 },
 "nbformat": 4,
 "nbformat_minor": 5
}
